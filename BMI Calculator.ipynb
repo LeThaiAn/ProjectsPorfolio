{
 "cells": [
  {
   "cell_type": "markdown",
   "id": "57ee7801",
   "metadata": {},
   "source": [
    "BMI calculator: https://mercer-health.com/services/weight-management-center/bmi-calculator#:~:text=Body%20Mass%20Index%2C%20or%20BMI,inches%20x%20height%20in%20inches"
   ]
  },
  {
   "cell_type": "markdown",
   "id": "de706cf2",
   "metadata": {},
   "source": [
    "BMI = (weight in pounds x 703) / (height in inches x height in inches)"
   ]
  },
  {
   "cell_type": "code",
   "execution_count": null,
   "id": "fc9e6e10",
   "metadata": {},
   "outputs": [],
   "source": [
    "name = input(\"Enter your name: \")\n",
    "\n",
    "weight = int(input(\"Enter your weight: \"))\n",
    "\n",
    "height = int(input(\"Enter your height: \"))\n",
    "\n",
    "BMI = (weight * 703) / (height * height)\n",
    "\n",
    "print(BMI)\n",
    "\n",
    "if BMI >0:\n",
    "    if(BMI<18.5):\n",
    "        print(name +\", you are underweight. Spend more time to take care your body, your health!\")\n",
    "    elif(BMI<24.9):\n",
    "        print(name +\", you are normal weight. Good job! Let's try to keep this balance.\")\n",
    "    elif(BMI<29.9):\n",
    "        print(name +\", you are overweight. Let's do some exercises!\")\n",
    "    elif(BMI<34.9):\n",
    "        print(name +\", you are obse. Don't be lazy anymore. You need to do exercise right now.\")\n",
    "    elif(BMI<39.9):\n",
    "        print(name + \", you are severely obese. Take care of your health, please!\")\n",
    "    else:\n",
    "        print(name + \", you are morbidly obese. You have to take action immediately to save your life RIGHT NOW!\")\n",
    "else:\n",
    "    print(\"Invalid input.\")"
   ]
  },
  {
   "cell_type": "code",
   "execution_count": null,
   "id": "8c169e69",
   "metadata": {},
   "outputs": [],
   "source": [
    "BMI\tClassification\tHealth Risk\n",
    "Under 18.5\tUnderweight\tMinimal\n",
    "18.5 - 24.9\tNormal Weight\tMinimal\n",
    "25 - 29.9\tOverweight\tIncreased\n",
    "30 - 34.9\tObese\tHigh\n",
    "35 - 39.9\tSeverely Obese\tVery High\n",
    "40 and over\tMorbidly Obese\tExtremely High"
   ]
  },
  {
   "cell_type": "code",
   "execution_count": null,
   "id": "3f69caf1",
   "metadata": {},
   "outputs": [],
   "source": []
  }
 ],
 "metadata": {
  "kernelspec": {
   "display_name": "Python 3 (ipykernel)",
   "language": "python",
   "name": "python3"
  },
  "language_info": {
   "codemirror_mode": {
    "name": "ipython",
    "version": 3
   },
   "file_extension": ".py",
   "mimetype": "text/x-python",
   "name": "python",
   "nbconvert_exporter": "python",
   "pygments_lexer": "ipython3",
   "version": "3.9.13"
  }
 },
 "nbformat": 4,
 "nbformat_minor": 5
}
